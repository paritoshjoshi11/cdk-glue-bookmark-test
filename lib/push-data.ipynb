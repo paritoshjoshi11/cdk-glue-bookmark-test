{
 "cells": [
  {
   "cell_type": "code",
   "execution_count": 5,
   "metadata": {},
   "outputs": [
    {
     "name": "stderr",
     "output_type": "stream",
     "text": [
      "C:\\Users\\parit\\AppData\\Local\\Temp\\ipykernel_27636\\858888144.py:21: DeprecationWarning: datetime.datetime.utcnow() is deprecated and scheduled for removal in a future version. Use timezone-aware objects to represent datetimes in UTC: datetime.datetime.now(datetime.UTC).\n",
      "  \"timestamp\": datetime.utcnow().isoformat()  # Current timestamp\n"
     ]
    },
    {
     "name": "stdout",
     "output_type": "stream",
     "text": [
      "Uploaded sample-data-f9c81423-5615-43f2-86c7-739b1460b2f0.json to raw-landing-5491\n",
      "Uploaded sample-data-e90d7718-0f4b-43bc-af98-d3c57a8a8afb.json to raw-landing-5491\n",
      "Uploaded sample-data-2e24b607-04e6-4307-bacf-27fde9f8b68d.json to raw-landing-5491\n",
      "Uploaded sample-data-6e682274-c905-4055-a2e6-782c6dcc0e87.json to raw-landing-5491\n",
      "Uploaded sample-data-b7809ed5-d862-454d-9f44-0010caee4320.json to raw-landing-5491\n"
     ]
    },
    {
     "data": {
      "text/plain": [
       "['sample-data-f9c81423-5615-43f2-86c7-739b1460b2f0.json',\n",
       " 'sample-data-e90d7718-0f4b-43bc-af98-d3c57a8a8afb.json',\n",
       " 'sample-data-2e24b607-04e6-4307-bacf-27fde9f8b68d.json',\n",
       " 'sample-data-6e682274-c905-4055-a2e6-782c6dcc0e87.json',\n",
       " 'sample-data-b7809ed5-d862-454d-9f44-0010caee4320.json']"
      ]
     },
     "execution_count": 5,
     "metadata": {},
     "output_type": "execute_result"
    }
   ],
   "source": [
    "import boto3\n",
    "import json\n",
    "import uuid\n",
    "import random\n",
    "from datetime import datetime\n",
    "\n",
    "# Initialize S3 client\n",
    "s3_client = boto3.client('s3')\n",
    "\n",
    "# Function to generate dynamic sample data\n",
    "def generate_sample_data():\n",
    "    first_names = [\"John\", \"Jane\", \"Alice\", \"Bob\", \"Charlie\", \"David\", \"Emma\"]\n",
    "    last_names = [\"Doe\", \"Smith\", \"Johnson\", \"Brown\", \"Williams\", \"Miller\"]\n",
    "    \n",
    "    data = []\n",
    "    for _ in range(3):  # Generate 3 random entries per file\n",
    "        entry = {\n",
    "            \"id\": str(uuid.uuid4()),  # Unique ID\n",
    "            \"name\": f\"{random.choice(first_names)} {random.choice(last_names)}\",\n",
    "            \"age\": random.randint(20, 60),  # Random age between 20-60\n",
    "            \"timestamp\": datetime.utcnow().isoformat()  # Current timestamp\n",
    "        }\n",
    "        data.append(entry)\n",
    "    \n",
    "    return data\n",
    "\n",
    "# Function to upload files to S3\n",
    "def upload_files_to_s3(bucket_name, num_files=5):\n",
    "    uploaded_files = []\n",
    "    \n",
    "    for _ in range(num_files):  # Upload specified number of files\n",
    "        file_name = f'sample-data-{uuid.uuid4()}.json'\n",
    "        data = generate_sample_data()\n",
    "        json_data = json.dumps(data, indent=2)\n",
    "        \n",
    "        s3_client.put_object(\n",
    "            Bucket=bucket_name,\n",
    "            Key=file_name,\n",
    "            Body=json_data,\n",
    "            ContentType='application/json'\n",
    "        )\n",
    "        \n",
    "        uploaded_files.append(file_name)\n",
    "        print(f'Uploaded {file_name} to {bucket_name}')\n",
    "    \n",
    "    return uploaded_files\n",
    "\n",
    "# Set your S3 bucket name\n",
    "bucket_name = \"raw-landing-5491\"  # Replace with your actual bucket name\n",
    "\n",
    "# Upload files to S3\n",
    "uploaded_files = upload_files_to_s3(bucket_name)\n",
    "\n",
    "# Display the uploaded file names\n",
    "uploaded_files\n"
   ]
  },
  {
   "cell_type": "code",
   "execution_count": null,
   "metadata": {},
   "outputs": [],
   "source": []
  }
 ],
 "metadata": {
  "kernelspec": {
   "display_name": "Python 3",
   "language": "python",
   "name": "python3"
  },
  "language_info": {
   "codemirror_mode": {
    "name": "ipython",
    "version": 3
   },
   "file_extension": ".py",
   "mimetype": "text/x-python",
   "name": "python",
   "nbconvert_exporter": "python",
   "pygments_lexer": "ipython3",
   "version": "3.13.0"
  }
 },
 "nbformat": 4,
 "nbformat_minor": 2
}
