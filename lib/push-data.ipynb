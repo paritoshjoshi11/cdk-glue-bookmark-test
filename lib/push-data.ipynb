{
 "cells": [
  {
   "cell_type": "code",
   "execution_count": 1,
   "metadata": {},
   "outputs": [
    {
     "name": "stderr",
     "output_type": "stream",
     "text": [
      "C:\\Users\\parit\\AppData\\Local\\Temp\\ipykernel_24632\\2256320688.py:19: DeprecationWarning: datetime.datetime.utcnow() is deprecated and scheduled for removal in a future version. Use timezone-aware objects to represent datetimes in UTC: datetime.datetime.now(datetime.UTC).\n",
      "  \"timestamp\": datetime.utcnow().isoformat()\n"
     ]
    },
    {
     "name": "stdout",
     "output_type": "stream",
     "text": [
      "Uploaded sample-data-8f9f3456-f51e-4fc8-8a28-512e7464a506.jsonl to raw-landing-5491\n",
      "Uploaded sample-data-5ce74078-a7fe-4a25-bcd3-71e59ce34b9f.jsonl to raw-landing-5491\n",
      "Uploaded sample-data-ba07a11f-8b36-4250-9a03-f8f7564fcc6c.jsonl to raw-landing-5491\n",
      "Uploaded sample-data-46d171f3-2219-48e9-96ea-c4d740e2ad53.jsonl to raw-landing-5491\n",
      "Uploaded sample-data-cbc56aea-8b66-4d96-a4ee-4893b1bcbdb8.jsonl to raw-landing-5491\n"
     ]
    },
    {
     "data": {
      "text/plain": [
       "['sample-data-8f9f3456-f51e-4fc8-8a28-512e7464a506.jsonl',\n",
       " 'sample-data-5ce74078-a7fe-4a25-bcd3-71e59ce34b9f.jsonl',\n",
       " 'sample-data-ba07a11f-8b36-4250-9a03-f8f7564fcc6c.jsonl',\n",
       " 'sample-data-46d171f3-2219-48e9-96ea-c4d740e2ad53.jsonl',\n",
       " 'sample-data-cbc56aea-8b66-4d96-a4ee-4893b1bcbdb8.jsonl']"
      ]
     },
     "execution_count": 1,
     "metadata": {},
     "output_type": "execute_result"
    }
   ],
   "source": [
    "import boto3\n",
    "import json\n",
    "import uuid\n",
    "import random\n",
    "from datetime import datetime\n",
    "\n",
    "# Initialize S3 client\n",
    "s3_client = boto3.client('s3')\n",
    "\n",
    "# Function to generate dynamic sample data in JSON Lines format\n",
    "def generate_sample_data():\n",
    "    first_names = [\"John\", \"Jane\", \"Alice\", \"Bob\", \"Charlie\", \"David\", \"Emma\"]\n",
    "    last_names = [\"Doe\", \"Smith\", \"Johnson\", \"Brown\", \"Williams\", \"Miller\"]\n",
    "\n",
    "    jsonl_data = \"\\n\".join(json.dumps({\n",
    "        \"id\": str(uuid.uuid4()),  \n",
    "        \"name\": f\"{random.choice(first_names)} {random.choice(last_names)}\",\n",
    "        \"age\": random.randint(20, 60),  \n",
    "        \"timestamp\": datetime.utcnow().isoformat()  \n",
    "    }) for _ in range(1))  # Generate 1 JSON objects per file\n",
    "\n",
    "    return jsonl_data\n",
    "\n",
    "# Function to upload JSONL files to S3\n",
    "def upload_files_to_s3(bucket_name, num_files=5):\n",
    "    uploaded_files = []\n",
    "\n",
    "    for _ in range(num_files):  \n",
    "        file_name = f'sample-data-{uuid.uuid4()}.jsonl'  # Ensure .jsonl extension\n",
    "        jsonl_data = generate_sample_data()\n",
    "\n",
    "        s3_client.put_object(\n",
    "            Bucket=bucket_name,\n",
    "            Key=file_name,\n",
    "            Body=jsonl_data,\n",
    "            ContentType='application/json'\n",
    "        )\n",
    "\n",
    "        uploaded_files.append(file_name)\n",
    "        print(f'Uploaded {file_name} to {bucket_name}')\n",
    "\n",
    "    return uploaded_files\n",
    "\n",
    "# Set your S3 bucket name\n",
    "bucket_name = \"raw-landing-5491\"  # Replace with your actual bucket name\n",
    "\n",
    "# Upload files to S3\n",
    "uploaded_files = upload_files_to_s3(bucket_name)\n",
    "\n",
    "# Display the uploaded file names\n",
    "uploaded_files\n"
   ]
  },
  {
   "cell_type": "code",
   "execution_count": null,
   "metadata": {},
   "outputs": [],
   "source": []
  }
 ],
 "metadata": {
  "kernelspec": {
   "display_name": "Python 3",
   "language": "python",
   "name": "python3"
  },
  "language_info": {
   "codemirror_mode": {
    "name": "ipython",
    "version": 3
   },
   "file_extension": ".py",
   "mimetype": "text/x-python",
   "name": "python",
   "nbconvert_exporter": "python",
   "pygments_lexer": "ipython3",
   "version": "3.13.0"
  }
 },
 "nbformat": 4,
 "nbformat_minor": 2
}
